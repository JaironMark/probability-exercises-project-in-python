{
 "cells": [
  {
   "cell_type": "markdown",
   "id": "a41f3622",
   "metadata": {},
   "source": [
    "# Ejercicios de probabilidad"
   ]
  },
  {
   "cell_type": "markdown",
   "id": "a6bdbd89",
   "metadata": {},
   "source": [
    "## Ejercicio 1 \n",
    "\n",
    "Dos dados se lanzan una vez y se observa el total obtenido. Usa una simulación para encontrar la probabilidad estimada de que la puntuación sea mayor a 7 o un número par. Una simulación es una repetición del mismo experimento multiples veces para observar su comportamiento:\n",
    "\n",
    "- Ejecuta el experimento 1000 veces (lanza 2 dados 1000 veces, y suma el número de ambos dados).\n",
    "- Lleva ua cuenta de los números y las veces que la suma fue mayor a 7 o un número par.\n",
    "- Divide el número del paso 2 entre el número de iteraciones(1000)."
   ]
  },
  {
   "cell_type": "code",
   "execution_count": null,
   "id": "8939d892",
   "metadata": {},
   "outputs": [],
   "source": [
    "# importar random, en dos variables que sumen hasta las 6 cara, luego sumar estas dos variables\n",
    "import random\n",
    "\n",
    "def dado1(): \n",
    "    lanzamiento1 = random.randint(1,6)\n",
    "    return lanzamiento1\n",
    "\n",
    "def dado2():\n",
    "    lanzamiento2 = random.randint(1,6)\n",
    "    return lanzamiento2\n",
    "\n",
    "#verificar si es > 7 o par\n",
    "suma_casualties = 0\n",
    "for _ in range(1000):\n",
    "    suma_dados = dado1() + dado2()  # Calcula la suma en cada iteración\n",
    "    if suma_dados > 7 or suma_dados % 2 == 0:\n",
    "        suma_casualties += 1\n",
    "\n",
    "probabilidad_estimada = suma_casualties / 1000\n",
    "print(f\"La probabilidad estimada es: {probabilidad_estimada}\")"
   ]
  },
  {
   "cell_type": "markdown",
   "id": "55732bca",
   "metadata": {},
   "source": [
    "## Ejercicio 2\n",
    "\n",
    "Una caja contiene 10 bolas blancas, 20 bolas rojas y 30 bolas verdes. Si tomamos 5 bolas de la caja reemplazándolas (tomando una bola, anotando el color y luego regresandola a la caja). Queremos saber la probabilidad de:\n",
    "\n",
    "1. Tomar 3 blancas y 2 rojas.\n",
    "2. Toas todas del mismo color.\n",
    "\n",
    "Ejecuta el experimento 1000 veces y calcula las probabilidades que mencionadas."
   ]
  },
  {
   "cell_type": "code",
   "execution_count": null,
   "id": "23244d20",
   "metadata": {},
   "outputs": [
    {
     "ename": "",
     "evalue": "",
     "output_type": "error",
     "traceback": [
      "\u001b[1;31mRunning cells with 'c:\\Program Files\\Python312\\python.exe' requires the ipykernel package.\n",
      "\u001b[1;31mRun the following command to install 'ipykernel' into the Python environment. \n",
      "\u001b[1;31mCommand: '\"c:/Program Files/Python312/python.exe\" -m pip install ipykernel -U --user --force-reinstall'"
     ]
    }
   ],
   "source": [
    "ball_box = {}\n",
    "\n",
    "# Crea la cajas con las bolas\n",
    "for i in range(60):\n",
    "    if i < 10:\n",
    "        ball_box[i] = \"White\"\n",
    "    elif (i > 9) and (i < 30):\n",
    "        ball_box[i] = \"Red\"\n",
    "    else:\n",
    "        ball_box[i] = \"Green\"\n",
    "\n",
    "print(ball_box)\n",
    "            \n",
    "# sacar bola\n",
    "def sacar_bola():\n",
    "    i = random.randint(0,59)\n",
    "    return ball_box[i]\n",
    "\n",
    "# iterar 5 veces\n",
    "def cinco_veces():\n",
    "    tiradas = []\n",
    "    for _ in range(5):\n",
    "        tiradas.append(sacar_bola())\n",
    "    return tiradas\n",
    "\n",
    "#iterar 1000 veces \n",
    "def mil_veces():\n",
    "    resultados = []\n",
    "    for i in range(1000):\n",
    "        resultados.append(cinco_veces())\n",
    "    return resultados\n",
    "\n",
    "def cases(resultados):\n",
    "    case1_count = 0  \n",
    "    case2_count = 0\n",
    "    for resultado in resultados:\n",
    "        # Caso 3 blancas y 2 rojas\n",
    "        if resultado.count(\"White\") == 3 and resultado.count(\"Red\") == 2:\n",
    "            case1_count += 1  \n",
    "\n",
    "        # Caso del mismo color\n",
    "        if resultado.count(resultado[0]) == 5:\n",
    "            case2_count += 1\n",
    "\n",
    "    # Calcular probabilidades\n",
    "    if len(resultados) == 0:\n",
    "        prob_caso1 = 0\n",
    "        prob_caso2 = 0\n",
    "    else:\n",
    "        prob_caso1 = case1_count / len(resultados)  \n",
    "        prob_caso2 = case2_count / len(resultados)\n",
    "\n",
    "    return prob_caso1, prob_caso2\n",
    "\n",
    "# resultados\n",
    "resultados_simulacion = mil_veces()\n",
    "prob_caso1, prob_caso2 = cases(resultados_simulacion)\n",
    "\n",
    "print(f\"Probabilidad de 3 blancas y 2 rojas: {prob_caso1}\")\n",
    "print(f\"Probabilidad de todas del mismo color: {prob_caso2}\")"
   ]
  }
 ],
 "metadata": {
  "interpreter": {
   "hash": "9248718ffe6ce6938b217e69dbcc175ea21f4c6b28a317e96c05334edae734bb"
  },
  "kernelspec": {
   "display_name": "Python 3.9.12 ('ML-BOOTCAMP')",
   "language": "python",
   "name": "python3"
  },
  "language_info": {
   "codemirror_mode": {
    "name": "ipython",
    "version": 3
   },
   "file_extension": ".py",
   "mimetype": "text/x-python",
   "name": "python",
   "nbconvert_exporter": "python",
   "pygments_lexer": "ipython3",
   "version": "3.12.1"
  }
 },
 "nbformat": 4,
 "nbformat_minor": 5
}
